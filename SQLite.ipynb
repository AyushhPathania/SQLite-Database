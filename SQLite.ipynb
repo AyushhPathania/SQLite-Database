{
 "cells": [
  {
   "cell_type": "code",
   "execution_count": 17,
   "id": "972be86b-c734-46bb-b78d-067fb1aef3aa",
   "metadata": {
    "tags": []
   },
   "outputs": [],
   "source": [
    "import sqlite3\n",
    "import pandas as pd \n",
    "import matplotlib.pyplot as plt"
   ]
  },
  {
   "cell_type": "code",
   "execution_count": 4,
   "id": "74c933c7-ab39-468e-bdbe-f0f46e7f2f85",
   "metadata": {
    "tags": []
   },
   "outputs": [],
   "source": [
    "# Connect and Create DB\n",
    "conn = sqlite3.connect('Sales_data.db')\n",
    "cursor = conn.cursor()"
   ]
  },
  {
   "cell_type": "code",
   "execution_count": 10,
   "id": "80614377-5eb2-4d70-9fba-43e99236e989",
   "metadata": {
    "tags": []
   },
   "outputs": [
    {
     "data": {
      "text/plain": [
       "<sqlite3.Cursor at 0x19d142c6cc0>"
      ]
     },
     "execution_count": 10,
     "metadata": {},
     "output_type": "execute_result"
    }
   ],
   "source": [
    "# Create Table\n",
    "\n",
    "cursor.execute('''\n",
    "CREATE TABLE sales (\n",
    "    order_id INTEGER PRIMARY KEY,\n",
    "    product_name TEXT,\n",
    "    quantity INTEGER,\n",
    "    price REAL,\n",
    "    order_date TEXT\n",
    ")\n",
    "''')"
   ]
  },
  {
   "cell_type": "code",
   "execution_count": 11,
   "id": "38ab74ac-1b56-4da2-aea8-9dc7c58ae396",
   "metadata": {
    "tags": []
   },
   "outputs": [
    {
     "data": {
      "text/plain": [
       "<function Connection.commit()>"
      ]
     },
     "execution_count": 11,
     "metadata": {},
     "output_type": "execute_result"
    }
   ],
   "source": [
    "# Insert Sample Data\n",
    "\n",
    "cursor.execute('''\n",
    "INSERT INTO sales (order_id, product_name, quantity, price, order_date)\n",
    "VALUES \n",
    "    (1, 'Laptop', 2, 75000.0, '2024-04-01'),\n",
    "    (2, 'Smartphone', 5, 25000.0, '2024-04-02'),\n",
    "    (3, 'Tablet', 3, 15000.0, '2024-04-03'),\n",
    "    (4, 'Headphones', 10, 2000.0, '2024-04-04'),\n",
    "    (5, 'Keyboard', 7, 1500.0, '2024-04-05')\n",
    "''')\n",
    "\n",
    "conn.commit"
   ]
  },
  {
   "cell_type": "code",
   "execution_count": 5,
   "id": "cf1d378a-89da-4c1c-8cda-d473d187f2ca",
   "metadata": {
    "tags": []
   },
   "outputs": [],
   "source": [
    "def run_query_and_display(query, conn, title=None):\n",
    "    try:\n",
    "        df = pd.read_sql_query(query, conn)\n",
    "        if title:\n",
    "            print(f\"\\n{title}\\n{'='*len(title)}\")\n",
    "        display(df)\n",
    "    except Exception as e:\n",
    "        \n",
    "        print(f\"An error occurred: {e}\")"
   ]
  },
  {
   "cell_type": "code",
   "execution_count": 12,
   "id": "9283d49b-0103-4942-a65f-beaa5de87f8c",
   "metadata": {
    "tags": []
   },
   "outputs": [
    {
     "data": {
      "text/html": [
       "<div>\n",
       "<style scoped>\n",
       "    .dataframe tbody tr th:only-of-type {\n",
       "        vertical-align: middle;\n",
       "    }\n",
       "\n",
       "    .dataframe tbody tr th {\n",
       "        vertical-align: top;\n",
       "    }\n",
       "\n",
       "    .dataframe thead th {\n",
       "        text-align: right;\n",
       "    }\n",
       "</style>\n",
       "<table border=\"1\" class=\"dataframe\">\n",
       "  <thead>\n",
       "    <tr style=\"text-align: right;\">\n",
       "      <th></th>\n",
       "      <th>order_id</th>\n",
       "      <th>product_name</th>\n",
       "      <th>quantity</th>\n",
       "      <th>price</th>\n",
       "      <th>order_date</th>\n",
       "    </tr>\n",
       "  </thead>\n",
       "  <tbody>\n",
       "    <tr>\n",
       "      <th>0</th>\n",
       "      <td>1</td>\n",
       "      <td>Laptop</td>\n",
       "      <td>2</td>\n",
       "      <td>75000.0</td>\n",
       "      <td>2024-04-01</td>\n",
       "    </tr>\n",
       "    <tr>\n",
       "      <th>1</th>\n",
       "      <td>2</td>\n",
       "      <td>Smartphone</td>\n",
       "      <td>5</td>\n",
       "      <td>25000.0</td>\n",
       "      <td>2024-04-02</td>\n",
       "    </tr>\n",
       "    <tr>\n",
       "      <th>2</th>\n",
       "      <td>3</td>\n",
       "      <td>Tablet</td>\n",
       "      <td>3</td>\n",
       "      <td>15000.0</td>\n",
       "      <td>2024-04-03</td>\n",
       "    </tr>\n",
       "    <tr>\n",
       "      <th>3</th>\n",
       "      <td>4</td>\n",
       "      <td>Headphones</td>\n",
       "      <td>10</td>\n",
       "      <td>2000.0</td>\n",
       "      <td>2024-04-04</td>\n",
       "    </tr>\n",
       "    <tr>\n",
       "      <th>4</th>\n",
       "      <td>5</td>\n",
       "      <td>Keyboard</td>\n",
       "      <td>7</td>\n",
       "      <td>1500.0</td>\n",
       "      <td>2024-04-05</td>\n",
       "    </tr>\n",
       "  </tbody>\n",
       "</table>\n",
       "</div>"
      ],
      "text/plain": [
       "   order_id product_name  quantity    price  order_date\n",
       "0         1       Laptop         2  75000.0  2024-04-01\n",
       "1         2   Smartphone         5  25000.0  2024-04-02\n",
       "2         3       Tablet         3  15000.0  2024-04-03\n",
       "3         4   Headphones        10   2000.0  2024-04-04\n",
       "4         5     Keyboard         7   1500.0  2024-04-05"
      ]
     },
     "metadata": {},
     "output_type": "display_data"
    }
   ],
   "source": [
    "query = \"SELECT * FROM sales;\"\n",
    "run_query_and_display(query,conn)"
   ]
  },
  {
   "cell_type": "code",
   "execution_count": 13,
   "id": "a3e73f6d-5b88-40a9-83b9-7a75d1cfdf69",
   "metadata": {
    "tags": []
   },
   "outputs": [
    {
     "data": {
      "text/html": [
       "<div>\n",
       "<style scoped>\n",
       "    .dataframe tbody tr th:only-of-type {\n",
       "        vertical-align: middle;\n",
       "    }\n",
       "\n",
       "    .dataframe tbody tr th {\n",
       "        vertical-align: top;\n",
       "    }\n",
       "\n",
       "    .dataframe thead th {\n",
       "        text-align: right;\n",
       "    }\n",
       "</style>\n",
       "<table border=\"1\" class=\"dataframe\">\n",
       "  <thead>\n",
       "    <tr style=\"text-align: right;\">\n",
       "      <th></th>\n",
       "      <th>total_quantity</th>\n",
       "    </tr>\n",
       "  </thead>\n",
       "  <tbody>\n",
       "    <tr>\n",
       "      <th>0</th>\n",
       "      <td>27</td>\n",
       "    </tr>\n",
       "  </tbody>\n",
       "</table>\n",
       "</div>"
      ],
      "text/plain": [
       "   total_quantity\n",
       "0              27"
      ]
     },
     "metadata": {},
     "output_type": "display_data"
    }
   ],
   "source": [
    "query = \"SELECT SUM(quantity) AS total_quantity FROM sales\"\n",
    "run_query_and_display(query,conn)"
   ]
  },
  {
   "cell_type": "code",
   "execution_count": 14,
   "id": "dc3c4976-9585-486b-9be8-a24e5760928c",
   "metadata": {
    "tags": []
   },
   "outputs": [
    {
     "data": {
      "text/html": [
       "<div>\n",
       "<style scoped>\n",
       "    .dataframe tbody tr th:only-of-type {\n",
       "        vertical-align: middle;\n",
       "    }\n",
       "\n",
       "    .dataframe tbody tr th {\n",
       "        vertical-align: top;\n",
       "    }\n",
       "\n",
       "    .dataframe thead th {\n",
       "        text-align: right;\n",
       "    }\n",
       "</style>\n",
       "<table border=\"1\" class=\"dataframe\">\n",
       "  <thead>\n",
       "    <tr style=\"text-align: right;\">\n",
       "      <th></th>\n",
       "      <th>product_name</th>\n",
       "      <th>quantity</th>\n",
       "      <th>price</th>\n",
       "      <th>total_price</th>\n",
       "    </tr>\n",
       "  </thead>\n",
       "  <tbody>\n",
       "    <tr>\n",
       "      <th>0</th>\n",
       "      <td>Headphones</td>\n",
       "      <td>10</td>\n",
       "      <td>2000.0</td>\n",
       "      <td>20000.0</td>\n",
       "    </tr>\n",
       "    <tr>\n",
       "      <th>1</th>\n",
       "      <td>Keyboard</td>\n",
       "      <td>7</td>\n",
       "      <td>1500.0</td>\n",
       "      <td>10500.0</td>\n",
       "    </tr>\n",
       "    <tr>\n",
       "      <th>2</th>\n",
       "      <td>Laptop</td>\n",
       "      <td>2</td>\n",
       "      <td>75000.0</td>\n",
       "      <td>150000.0</td>\n",
       "    </tr>\n",
       "    <tr>\n",
       "      <th>3</th>\n",
       "      <td>Smartphone</td>\n",
       "      <td>5</td>\n",
       "      <td>25000.0</td>\n",
       "      <td>125000.0</td>\n",
       "    </tr>\n",
       "    <tr>\n",
       "      <th>4</th>\n",
       "      <td>Tablet</td>\n",
       "      <td>3</td>\n",
       "      <td>15000.0</td>\n",
       "      <td>45000.0</td>\n",
       "    </tr>\n",
       "  </tbody>\n",
       "</table>\n",
       "</div>"
      ],
      "text/plain": [
       "  product_name  quantity    price  total_price\n",
       "0   Headphones        10   2000.0      20000.0\n",
       "1     Keyboard         7   1500.0      10500.0\n",
       "2       Laptop         2  75000.0     150000.0\n",
       "3   Smartphone         5  25000.0     125000.0\n",
       "4       Tablet         3  15000.0      45000.0"
      ]
     },
     "metadata": {},
     "output_type": "display_data"
    }
   ],
   "source": [
    "query = \"SELECT product_name,quantity,price,SUM(quantity*price) AS total_price FROM sales GROUP BY product_name\"\n",
    "run_query_and_display(query,conn)"
   ]
  },
  {
   "cell_type": "code",
   "execution_count": 15,
   "id": "6b3abac2-83e1-404d-a489-b20b981311be",
   "metadata": {
    "tags": []
   },
   "outputs": [],
   "source": [
    "query = \"SELECT * FROM sales;\"\n",
    "sales_df = df = pd.read_sql_query(query, conn)\n"
   ]
  },
  {
   "cell_type": "code",
   "execution_count": 22,
   "id": "5429005f-1d1f-4afb-accc-16c62303c9be",
   "metadata": {
    "tags": []
   },
   "outputs": [
    {
     "data": {
      "image/png": "[encoded data removed]",
      "text/plain": [
       "<Figure size 640x480 with 1 Axes>"
      ]
     },
     "metadata": {},
     "output_type": "display_data"
    }
   ],
   "source": [
    "# Grouping\n",
    "product_sales = sales_df.groupby('product_name') ['quantity'].sum()\n",
    "\n",
    "# Plotting\n",
    "\n",
    "product_sales.plot(kind='bar', color='orange')\n",
    "plt.title('Total Quantity Sold By Product')\n",
    "plt.xlabel('Product Name')\n",
    "plt.ylabel('Total Quantity Sold')\n",
    "plt.savefig('sales_chart.png',bbox_inches='tight')\n",
    "# Show the graph\n",
    "plt.show()"
   ]
  },
  {
   "cell_type": "code",
   "execution_count": null,
   "id": "0290a8cc-452c-4ab5-9921-6da3b7add793",
   "metadata": {},
   "outputs": [],
   "source": []
  },
  {
   "cell_type": "code",
   "execution_count": null,
   "id": "b21c0a33-3f06-4a7e-a0b8-cf34498cfe32",
   "metadata": {},
   "outputs": [],
   "source": []
  }
 ],
 "metadata": {
  "kernelspec": {
   "display_name": "Python 3 (ipykernel)",
   "language": "python",
   "name": "python3"
  },
  "language_info": {
   "codemirror_mode": {
    "name": "ipython",
    "version": 3
   },
   "file_extension": ".py",
   "mimetype": "text/x-python",
   "name": "python",
   "nbconvert_exporter": "python",
   "pygments_lexer": "ipython3",
   "version": "3.11.4"
  }
 },
 "nbformat": 4,
 "nbformat_minor": 5
}
